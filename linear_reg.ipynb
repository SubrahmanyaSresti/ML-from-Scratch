{
 "cells": [
  {
   "cell_type": "code",
   "execution_count": 117,
   "metadata": {},
   "outputs": [],
   "source": [
    "import numpy as np"
   ]
  },
  {
   "cell_type": "code",
   "execution_count": 118,
   "metadata": {},
   "outputs": [
    {
     "data": {
      "text/plain": [
       "array([0, 1, 2])"
      ]
     },
     "execution_count": 118,
     "metadata": {},
     "output_type": "execute_result"
    }
   ],
   "source": [
    "x= np.arange(3)\n",
    "x"
   ]
  },
  {
   "cell_type": "code",
   "execution_count": 119,
   "metadata": {},
   "outputs": [
    {
     "data": {
      "text/plain": [
       "array([21, 23, 27])"
      ]
     },
     "execution_count": 119,
     "metadata": {},
     "output_type": "execute_result"
    }
   ],
   "source": [
    "l= [[1,2,3],[4,5,6],[7,8,9],[9,8,9]]\n",
    "l= np.array(l)\n",
    "l\n",
    "np.sum(l,axis=0)"
   ]
  },
  {
   "cell_type": "code",
   "execution_count": null,
   "metadata": {},
   "outputs": [],
   "source": []
  },
  {
   "attachments": {},
   "cell_type": "markdown",
   "metadata": {},
   "source": [
    "Linear regression"
   ]
  },
  {
   "cell_type": "code",
   "execution_count": 120,
   "metadata": {},
   "outputs": [],
   "source": [
    "class MultiVariableLinearRegression:\n",
    "    def __init__(self, learning_rate=0.01, iterations=100):\n",
    "        self.learning_rate = learning_rate\n",
    "        self.iterations = iterations\n",
    "        self.weights = None\n",
    "        self.bias = None\n",
    "        self.ypred=None\n",
    "    def fit(self,x,y):\n",
    "        num_samples, num_features= x.shape\n",
    "        self.weights= np.zeros(num_features)\n",
    "        self.bias= 0\n",
    "        \n",
    "        for _ in range(self.iterations):\n",
    "            y_pred=  self.weights @ x.T + self.bias\n",
    "            dw = (1/num_samples)* (y_pred-y) @ x\n",
    "            db = (1 / num_samples) * np.sum(y_pred - y)\n",
    "            \n",
    "            self.weights -= self.learning_rate*dw\n",
    "            self.bias -= self.learning_rate*db\n",
    "            \n",
    "        print(\"Ran for iterations= \",self.iterations)\n",
    "            \n",
    "    def pred(self,x):\n",
    "        self.ypred= self.weights @ x.T + self.bias\n",
    "        return self.ypred"
   ]
  },
  {
   "cell_type": "code",
   "execution_count": 121,
   "metadata": {},
   "outputs": [
    {
     "name": "stdout",
     "output_type": "stream",
     "text": [
      "Ran for iterations=  1\n"
     ]
    }
   ],
   "source": [
    "X = np.array([[1, 2, 3],\n",
    "              [4, 5, 6],\n",
    "              [7, 8, 9],\n",
    "              [9,8,9]])\n",
    "y = np.array([4.8, 9.5, 14.2,15.6])\n",
    "model= MultiVariableLinearRegression(iterations=1)\n",
    "model.fit(X,y)"
   ]
  },
  {
   "attachments": {},
   "cell_type": "markdown",
   "metadata": {},
   "source": [
    "Logistic Regression"
   ]
  },
  {
   "cell_type": "code",
   "execution_count": 122,
   "metadata": {},
   "outputs": [],
   "source": [
    "class MultiVariableLogisticRegression:\n",
    "    def __init__(self, learning_rate=0.01, iterations=100):\n",
    "        self.learning_rate= learning_rate\n",
    "        self.iterations= iterations\n",
    "        self.weights= None\n",
    "        self.bias= None\n",
    "        self.y_pred= None\n",
    "    def sigmoid(self,x):\n",
    "        return 1/(1+np.exp(-x))\n",
    "    def sigmoid2(self,x):\n",
    "        a= 1/(1+np.exp(-x))\n",
    "        if(a<0.5):\n",
    "            return 0\n",
    "        else:\n",
    "            return 1\n",
    "        \n",
    "    def fit(self,x,y):\n",
    "        num_samples, num_features= x.shape\n",
    "        self.weights = np.zeros(num_features)\n",
    "        self.bias= 0\n",
    "        \n",
    "        for _ in range(self.iterations):\n",
    "            \n",
    "            y_pred= self.weights @ x.T +self.bias\n",
    "            y_pred= np.vectorize(self.sigmoid)(y_pred)\n",
    "            \n",
    "            dw= (1/num_samples)* (y_pred-y) @ x\n",
    "            db= (1/num_samples) * np.sum(y_pred-y)\n",
    "            \n",
    "            self.weights -= self.learning_rate*dw\n",
    "            self.bias -= self.learning_rate*db\n",
    "            \n",
    "            print(y_pred)\n",
    "            \n",
    "        return y_pred\n",
    "    def predict(self,x):\n",
    "        self.y_pred= np.vectorize(self.sigmoid2)(self.weights @ x.T + self.bias)\n",
    "        return self.y_pred\n",
    "            "
   ]
  }
 ],
 "metadata": {
  "kernelspec": {
   "display_name": "Python 3",
   "language": "python",
   "name": "python3"
  },
  "language_info": {
   "codemirror_mode": {
    "name": "ipython",
    "version": 3
   },
   "file_extension": ".py",
   "mimetype": "text/x-python",
   "name": "python",
   "nbconvert_exporter": "python",
   "pygments_lexer": "ipython3",
   "version": "3.11.1 (v3.11.1:a7a450f84a, Dec  6 2022, 15:24:06) [Clang 13.0.0 (clang-1300.0.29.30)]"
  },
  "orig_nbformat": 4,
  "vscode": {
   "interpreter": {
    "hash": "aee8b7b246df8f9039afb4144a1f6fd8d2ca17a180786b69acc140d282b71a49"
   }
  }
 },
 "nbformat": 4,
 "nbformat_minor": 2
}
