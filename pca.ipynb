{
 "cells": [
  {
   "attachments": {},
   "cell_type": "markdown",
   "metadata": {},
   "source": [
    "## PCA\n"
   ]
  },
  {
   "cell_type": "code",
   "execution_count": 1,
   "metadata": {},
   "outputs": [],
   "source": [
    "import numpy as np\n",
    "import matplotlib.pyplot as plt\n",
    "import pandas as pd"
   ]
  },
  {
   "cell_type": "code",
   "execution_count": 4,
   "metadata": {},
   "outputs": [
    {
     "data": {
      "text/plain": [
       "array([[ 14., -11.],\n",
       "       [-11.,  23.]])"
      ]
     },
     "execution_count": 4,
     "metadata": {},
     "output_type": "execute_result"
    }
   ],
   "source": [
    "array= np.array([[4,11],[8,4],[13,5],[7,14]])\n",
    "np.cov(array.T)"
   ]
  },
  {
   "cell_type": "code",
   "execution_count": 41,
   "metadata": {},
   "outputs": [],
   "source": [
    "class PCA:\n",
    "    def __init__ (self,ncomponents):\n",
    "        self.pcomponents= None\n",
    "        self.ncomps= ncomponents\n",
    "        self.revalues=None\n",
    "        self.variance_ret= None\n",
    "    def fit(self,x):\n",
    "        covmat= np.cov(x.T)\n",
    "        eigvals, eigvecs= np.linalg.eig(covmat)\n",
    "        indices= np.argsort(eigvals)[::-1]\n",
    "        self.pcomponents=[]\n",
    "        X= x-np.mean(x,axis=0)\n",
    "        self.variance_ret=[]\n",
    "        totalvar= np.sum(eigvals)\n",
    "        for i in range(self.ncomps):\n",
    "            self.pcomponents.append(eigvecs[indices[i]]@X.T)\n",
    "            self.variance_ret.append(eigvals[indices[i]]/totalvar)\n",
    "        return self.pcomponents\n",
    "    def metrics(self,x):\n",
    "        return self.variance_ret\n",
    "        \n",
    "        "
   ]
  },
  {
   "cell_type": "code",
   "execution_count": 47,
   "metadata": {},
   "outputs": [
    {
     "data": {
      "text/plain": [
       "[0.8212125492974247, 0.17878745070257532]"
      ]
     },
     "execution_count": 47,
     "metadata": {},
     "output_type": "execute_result"
    }
   ],
   "source": [
    "pca= PCA(2)\n",
    "pc=pca.fit(x=array)\n",
    "pca.metrics(x=array)"
   ]
  },
  {
   "cell_type": "code",
   "execution_count": 49,
   "metadata": {},
   "outputs": [],
   "source": [
    "import matplotlib.pyplot as plt\n",
    "import seaborn as sns"
   ]
  },
  {
   "cell_type": "code",
   "execution_count": 53,
   "metadata": {},
   "outputs": [
    {
     "data": {
      "text/plain": [
       "[]"
      ]
     },
     "execution_count": 53,
     "metadata": {},
     "output_type": "execute_result"
    },
    {
     "data": {
      "image/png": "[encoded data removed]",
      "text/plain": [
       "<Figure size 640x480 with 1 Axes>"
      ]
     },
     "metadata": {},
     "output_type": "display_data"
    }
   ],
   "source": [
    "pc1=pc[0]\n",
    "pc2=pc[1]\n",
    "plt.scatter(x=pc[0],y=pc[1])\n",
    "plt.plot()"
   ]
  }
 ],
 "metadata": {
  "kernelspec": {
   "display_name": "Python 3",
   "language": "python",
   "name": "python3"
  },
  "language_info": {
   "codemirror_mode": {
    "name": "ipython",
    "version": 3
   },
   "file_extension": ".py",
   "mimetype": "text/x-python",
   "name": "python",
   "nbconvert_exporter": "python",
   "pygments_lexer": "ipython3",
   "version": "3.11.1 (v3.11.1:a7a450f84a, Dec  6 2022, 15:24:06) [Clang 13.0.0 (clang-1300.0.29.30)]"
  },
  "orig_nbformat": 4,
  "vscode": {
   "interpreter": {
    "hash": "aee8b7b246df8f9039afb4144a1f6fd8d2ca17a180786b69acc140d282b71a49"
   }
  }
 },
 "nbformat": 4,
 "nbformat_minor": 2
}
