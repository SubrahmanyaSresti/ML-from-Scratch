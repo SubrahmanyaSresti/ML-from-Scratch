{
 "cells": [
  {
   "cell_type": "code",
   "execution_count": 1,
   "metadata": {},
   "outputs": [],
   "source": [
    "import numpy as np"
   ]
  },
  {
   "cell_type": "code",
   "execution_count": 26,
   "metadata": {},
   "outputs": [],
   "source": [
    "class LDA:\n",
    "    def __init__(self,num_components):\n",
    "        self.numco= num_components\n",
    "        self.linds= None\n",
    "    def fit(self,x,y):\n",
    "        classes= np.unique(y)\n",
    "        mean_overall= np.mean(x)\n",
    "        _,num_feats= x.shape\n",
    "        sw_within= np.zeros((num_feats,num_feats))\n",
    "        #sw_btw= np.zeros()\n",
    "        for i in range(len(classes)):\n",
    "            xi= x[y==classes[i]]\n",
    "            xbari= np.mean(xi,axis=0)\n",
    "            print(xi.shape)\n",
    "            sw_within +=  (xi- xbari).T @ (xi-xbari)\n",
    "            \n",
    "            \n",
    "            "
   ]
  },
  {
   "cell_type": "code",
   "execution_count": 27,
   "metadata": {},
   "outputs": [
    {
     "name": "stdout",
     "output_type": "stream",
     "text": [
      "(2, 2)\n",
      "(3, 2)\n"
     ]
    }
   ],
   "source": [
    "X = np.array([[1, 2], [2, 3], [3, 4], [4, 5], [5, 6]])\n",
    "y = np.array([0, 0, 1, 1, 1])\n",
    "\n",
    "    # Instantiate and fit LDA\n",
    "lda = LDA(num_components=1)\n",
    "lda.fit(X, y)"
   ]
  }
 ],
 "metadata": {
  "kernelspec": {
   "display_name": "Python 3",
   "language": "python",
   "name": "python3"
  },
  "language_info": {
   "codemirror_mode": {
    "name": "ipython",
    "version": 3
   },
   "file_extension": ".py",
   "mimetype": "text/x-python",
   "name": "python",
   "nbconvert_exporter": "python",
   "pygments_lexer": "ipython3",
   "version": "3.11.1 (v3.11.1:a7a450f84a, Dec  6 2022, 15:24:06) [Clang 13.0.0 (clang-1300.0.29.30)]"
  },
  "orig_nbformat": 4,
  "vscode": {
   "interpreter": {
    "hash": "aee8b7b246df8f9039afb4144a1f6fd8d2ca17a180786b69acc140d282b71a49"
   }
  }
 },
 "nbformat": 4,
 "nbformat_minor": 2
}
